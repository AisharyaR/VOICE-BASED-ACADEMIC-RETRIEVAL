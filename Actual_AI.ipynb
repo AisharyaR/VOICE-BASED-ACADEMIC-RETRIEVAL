{
 "cells": [
  {
   "cell_type": "code",
   "execution_count": 19,
   "id": "242d2aff-274a-4f5f-9e4b-773c14e254b1",
   "metadata": {},
   "outputs": [],
   "source": [
    "import speech_recognition as sr\n",
    "import pyodbc"
   ]
  },
  {
   "cell_type": "code",
   "execution_count": 20,
   "id": "08def760-5695-4c36-a18c-afd7a74ec362",
   "metadata": {},
   "outputs": [],
   "source": [
    "# Function to connect to the ACCDB file and retrieve records\n",
    "def retrieve_records_from_database(uid):\n",
    "    # Set the path to your ACCDB file\n",
    "    db_path = \"C:\\RR.accdb\"\n",
    "    \n",
    "    try:\n",
    "        # Connect to the database\n",
    "        conn_str = r\"Driver={Microsoft Access Driver (*.mdb, *.accdb)};Dbq=\" + db_path\n",
    "        conn = pyodbc.connect(conn_str)\n",
    "\n",
    "        # Execute a SQL query to retrieve the records\n",
    "        cursor = conn.cursor()\n",
    "        cursor.execute(\"SELECT * FROM a1 WHERE [UID] = ?\", uid)\n",
    "\n",
    "        # Fetch the records\n",
    "        records = cursor.fetchall()\n",
    "\n",
    "        if records:\n",
    "            # Print the records\n",
    "            print(\"Records for UID \", uid + \":\")\n",
    "            for record in records:\n",
    "                print(record)\n",
    "        else:\n",
    "            print(\"No records found for\", uid)\n",
    "\n",
    "        # Close the database connection\n",
    "        cursor.close()\n",
    "        conn.close()\n",
    "\n",
    "    except pyodbc.Error as e:\n",
    "        print(\"Error connecting to the database:\", str(e))"
   ]
  },
  {
   "cell_type": "code",
   "execution_count": 21,
   "id": "b2ce59d3-6130-47ec-8027-5bb077f6a2b7",
   "metadata": {},
   "outputs": [],
   "source": [
    "# Function to deliver academic records\n",
    "def deliver_academic_records(r):\n",
    "    # Use the default microphone as the audio source\n",
    "    with sr.Microphone() as source:\n",
    "        print(\"Please say the UID of the person\")\n",
    "        audio = r.listen(source)\n",
    "\n",
    "    try:\n",
    "        # Recognize speech using Google Speech Recognition\n",
    "        uid = r.recognize_google(audio)\n",
    "        print(\"You said:\", uid)\n",
    "\n",
    "        if uid:\n",
    "            # Code to deliver the academic records\n",
    "            print(\"Delivering academic records for\", uid)\n",
    "\n",
    "            # Retrieve the records from the ACCDB file for the specified name\n",
    "            retrieve_records_from_database(uid)\n",
    "\n",
    "        else:\n",
    "            print(\"Sorry, I couldn't understand the UID.\")\n",
    "\n",
    "    except sr.UnknownValueError:\n",
    "        print(\"Sorry, I couldn't understand the UID.\")\n",
    "    except sr.RequestError as e:\n",
    "        print(\"Could not request results from Google Speech Recognition service:\", str(e))"
   ]
  },
  {
   "cell_type": "code",
   "execution_count": 22,
   "id": "d6c89272-b256-4016-a290-66760b3089ba",
   "metadata": {},
   "outputs": [],
   "source": [
    "# Create an instance of the Recognizer class\n",
    "r = sr.Recognizer()"
   ]
  },
  {
   "cell_type": "code",
   "execution_count": 28,
   "id": "14545850-d57f-4ef8-8c73-3ecb9054e21f",
   "metadata": {},
   "outputs": [
    {
     "name": "stdout",
     "output_type": "stream",
     "text": [
      "Please say the UID of the person\n",
      "You said: 981\n",
      "Delivering academic records for 981\n",
      "Records for UID  981:\n",
      "('981', 'E2011200009846', 'Pintu', 'CSE', 'B.Tech', 'R200001679558', '62')\n"
     ]
    }
   ],
   "source": [
    "# Call the function to start the voice-based delivery system\n",
    "deliver_academic_records(r)"
   ]
  },
  {
   "cell_type": "code",
   "execution_count": null,
   "id": "28a70fe9-af6b-49bf-8143-9d9095635089",
   "metadata": {},
   "outputs": [],
   "source": []
  }
 ],
 "metadata": {
  "kernelspec": {
   "display_name": "Python 3 (ipykernel)",
   "language": "python",
   "name": "python3"
  },
  "language_info": {
   "codemirror_mode": {
    "name": "ipython",
    "version": 3
   },
   "file_extension": ".py",
   "mimetype": "text/x-python",
   "name": "python",
   "nbconvert_exporter": "python",
   "pygments_lexer": "ipython3",
   "version": "3.10.9"
  }
 },
 "nbformat": 4,
 "nbformat_minor": 5
}
